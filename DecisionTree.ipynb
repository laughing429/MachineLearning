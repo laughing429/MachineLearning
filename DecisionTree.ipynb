{
 "cells": [
  {
   "cell_type": "markdown",
   "metadata": {},
   "source": [
    "# 决策树\n",
    "## 优点\n",
    "计算复杂度不高，输出结果易于理解，对中间值的缺失不敏感，可以处理不相关特征数据\n",
    "## 缺点\n",
    "可能会产生过度匹配的问题"
   ]
  },
  {
   "cell_type": "code",
   "execution_count": 1,
   "metadata": {
    "collapsed": true
   },
   "outputs": [],
   "source": [
    "import numpy as np"
   ]
  },
  {
   "cell_type": "code",
   "execution_count": 26,
   "metadata": {
    "collapsed": false
   },
   "outputs": [],
   "source": [
    "def  calc_shannon_ent(dataset):\n",
    "    \"\"\"计算数据的信息熵\n",
    "        该方法label必须在最后一列\n",
    "    \"\"\"\n",
    "    num_entries = len(dataset)\n",
    "    label_count = {}\n",
    "    for fea_vec in dataset:\n",
    "        current_label = fea_vec[-1]\n",
    "        if current_label not in label_count.keys():\n",
    "            label_count[current_label] = 0\n",
    "            label_count[current_label] += 1\n",
    "    shanon_ent = 0.0\n",
    "    for key in label_count:\n",
    "        prob = float(label_count[key])/num_entries\n",
    "        shanon_ent -= prob * np.log2(prob)\n",
    "    return shanon_ent\n",
    "\n",
    "def split_data_set(dataset, axis, value):\n",
    "    ret_data_set =[]\n",
    "    for feat_vec in dataset:\n",
    "        if feat_vec[axis] == value:\n",
    "            reduced_feat_vec = feat_vec[:axis]\n",
    "            reduced_feat_vec.extend(feat_vec[axis+1: ])\n",
    "            ret_data_set.append(reduced_feat_vec)\n",
    "    return ret_data_set\n",
    "\n",
    "def choose_best_feature_to_split(dataset):\n",
    "    num_features = len(dataset[0]) - 1# 特征数量\n",
    "    base_entropy = calc_shannon_ent(dataset)\n",
    "    best_info_gain = 0.0\n",
    "    best_feature = -1\n",
    "    for i in range(num_features):\n",
    "        feat_list = [example[i] for example in dataset]\n",
    "        unique_value = set(feat_list)\n",
    "        new_entropy = 0.0\n",
    "        for value in "
   ]
  },
  {
   "cell_type": "code",
   "execution_count": 21,
   "metadata": {
    "collapsed": false
   },
   "outputs": [],
   "source": [
    "def create_dataset():\n",
    "    dataset = [[1, 1, 'yes'],\n",
    "              [1, 1, 'yes'],\n",
    "              [1, 0, 'no'],\n",
    "              [0, 1, 'no'],\n",
    "              [0, 1, 'no']]\n",
    "    labels = ['no surfacing', 'flippers']\n",
    "    return dataset, labels"
   ]
  },
  {
   "cell_type": "code",
   "execution_count": 23,
   "metadata": {
    "collapsed": false
   },
   "outputs": [],
   "source": [
    "X, y = create_dataset()"
   ]
  },
  {
   "cell_type": "code",
   "execution_count": 27,
   "metadata": {
    "collapsed": false
   },
   "outputs": [
    {
     "data": {
      "text/plain": [
       "0.9287712379549449"
      ]
     },
     "execution_count": 27,
     "metadata": {},
     "output_type": "execute_result"
    }
   ],
   "source": [
    "calc_shannon_ent(X)"
   ]
  }
 ],
 "metadata": {
  "anaconda-cloud": {},
  "kernelspec": {
   "display_name": "Python [conda root]",
   "language": "python",
   "name": "conda-root-py"
  },
  "language_info": {
   "codemirror_mode": {
    "name": "ipython",
    "version": 2
   },
   "file_extension": ".py",
   "mimetype": "text/x-python",
   "name": "python",
   "nbconvert_exporter": "python",
   "pygments_lexer": "ipython2",
   "version": "2.7.12"
  }
 },
 "nbformat": 4,
 "nbformat_minor": 1
}
