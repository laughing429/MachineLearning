{
 "cells": [
  {
   "cell_type": "markdown",
   "metadata": {},
   "source": [
    "# 决策树\n",
    "## 优点\n",
    "计算复杂度不高，输出结果易于理解，对中间值的缺失不敏感，可以处理不相关特征数据\n",
    "## 缺点\n",
    "可能会产生过度匹配的问题"
   ]
  },
  {
   "cell_type": "code",
   "execution_count": 1,
   "metadata": {
    "collapsed": true
   },
   "outputs": [],
   "source": [
    "import numpy as np\n",
    "import operator"
   ]
  },
  {
   "cell_type": "code",
   "execution_count": 11,
   "metadata": {
    "collapsed": false
   },
   "outputs": [],
   "source": [
    "def  calc_shannon_ent(dataset):\n",
    "    \"\"\"计算数据的信息熵\n",
    "        该方法label必须在最后一列\n",
    "    \"\"\"\n",
    "    num_entries = len(dataset)\n",
    "    label_count = {}\n",
    "    for fea_vec in dataset:\n",
    "        current_label = fea_vec[-1]\n",
    "        if current_label not in label_count.keys():\n",
    "            label_count[current_label] = 0\n",
    "            label_count[current_label] += 1\n",
    "    shanon_ent = 0.0\n",
    "    for key in label_count:\n",
    "        prob = float(label_count[key])/num_entries\n",
    "        shanon_ent -= prob * np.log2(prob)\n",
    "    return shanon_ent\n",
    "\n",
    "def split_data_set(dataset, axis, value):\n",
    "    ret_data_set =[]\n",
    "    for feat_vec in dataset:\n",
    "        if feat_vec[axis] == value:\n",
    "            reduced_feat_vec = feat_vec[:axis]\n",
    "            reduced_feat_vec.extend(feat_vec[axis+1: ])\n",
    "            ret_data_set.append(reduced_feat_vec)\n",
    "    return ret_data_set\n",
    "\n",
    "def choose_best_feature_to_split(dataset):\n",
    "    num_features = len(dataset[0]) - 1# 特征数量\n",
    "    base_entropy = calc_shannon_ent(dataset)\n",
    "    best_info_gain = 0.0\n",
    "    best_feature = -1\n",
    "    for i in range(num_features):\n",
    "        feat_list = [example[i] for example in dataset]\n",
    "        unique_value = set(feat_list)\n",
    "        new_entropy = 0.0\n",
    "        for value in unique_value:\n",
    "            sub_dataset = split_data_set(dataset, i, value)\n",
    "            prob = len(sub_dataset)/np.float(len(dataset))\n",
    "            new_entropy -= prob*calc_shannon_ent(sub_dataset) # 计算信息熵\n",
    "        info_gain = base_entropy - new_entropy \n",
    "        if info_gain > best_info_gain:\n",
    "            best_info_gain = info_gain\n",
    "            best_feature = i\n",
    "    return best_feature"
   ]
  },
  {
   "cell_type": "code",
   "execution_count": 27,
   "metadata": {
    "collapsed": true
   },
   "outputs": [],
   "source": [
    "def  majority_cnt(class_list):\n",
    "    class_count = {}\n",
    "    for vote in class_list:\n",
    "        if vote not in class_count: class_count[vote] = 0\n",
    "        class_count[vote] += 1\n",
    "    sorted_class_count = sorted(class_count.iteritems(), key=operator.itemgetter(1), reverse=True)\n",
    "    return sorted_class_count[0][0]\n",
    "\n",
    "def create_tree(dataset, labels):\n",
    "    \"\"\"\n",
    "    labels:指的features的label\n",
    "    \"\"\"\n",
    "    class_list = [example[-1] for example in dataset]\n",
    "    if class_list.count(class_list[0]) == len(class_list):\n",
    "        return class_list[0] # 如果类别完全一致\n",
    "    if len(dataset[0]) == 1:\n",
    "        return majority_cnt(class_list)\n",
    "    best_feat = choose_best_feature_to_split(dataset)\n",
    "    best_feat_label = labels[best_feat]\n",
    "    my_tree = {best_feat_label: {}}\n",
    "    del labels[best_feat]\n",
    "    feat_values = [example[best_feat] for example in dataset]\n",
    "    unique_vals = set(feat_values)\n",
    "    for value in unique_vals:\n",
    "        sub_labels = labels[:]\n",
    "        my_tree[best_feat_label][value] = create_tree(split_data_set(dataset, best_feat, value), sub_labels)\n",
    "    return my_tree"
   ]
  },
  {
   "cell_type": "code",
   "execution_count": 36,
   "metadata": {
    "collapsed": false
   },
   "outputs": [
    {
     "data": {
      "text/plain": [
       "0"
      ]
     },
     "execution_count": 36,
     "metadata": {},
     "output_type": "execute_result"
    }
   ],
   "source": [
    "choose_best_feature_to_split(X)"
   ]
  },
  {
   "cell_type": "code",
   "execution_count": 28,
   "metadata": {
    "collapsed": false
   },
   "outputs": [],
   "source": [
    "def create_dataset():\n",
    "    dataset = [[1, 1, 'yes'],\n",
    "              [1, 1, 'yes'],\n",
    "              [1, 0, 'no'],\n",
    "              [0, 1, 'no'],\n",
    "              [0, 1, 'no']]\n",
    "    features_labels = ['no surfacing', 'flippers']\n",
    "    return dataset, features_labels"
   ]
  },
  {
   "cell_type": "code",
   "execution_count": 29,
   "metadata": {
    "collapsed": false
   },
   "outputs": [
    {
     "data": {
      "text/plain": [
       "{'no surfacing': {0: 'no', 1: {'flippers': {0: 'no', 1: 'yes'}}}}"
      ]
     },
     "execution_count": 29,
     "metadata": {},
     "output_type": "execute_result"
    }
   ],
   "source": [
    "X, labels = create_dataset()\n",
    "create_tree(X, labels)"
   ]
  },
  {
   "cell_type": "code",
   "execution_count": null,
   "metadata": {
    "collapsed": true
   },
   "outputs": [],
   "source": []
  }
 ],
 "metadata": {
  "anaconda-cloud": {},
  "kernelspec": {
   "display_name": "Python [conda root]",
   "language": "python",
   "name": "conda-root-py"
  },
  "language_info": {
   "codemirror_mode": {
    "name": "ipython",
    "version": 2
   },
   "file_extension": ".py",
   "mimetype": "text/x-python",
   "name": "python",
   "nbconvert_exporter": "python",
   "pygments_lexer": "ipython2",
   "version": "2.7.12"
  }
 },
 "nbformat": 4,
 "nbformat_minor": 1
}
