{
 "cells": [
  {
   "cell_type": "markdown",
   "metadata": {
    "collapsed": true
   },
   "source": [
    "# K近邻算法\n",
    "\n",
    "### 优点\n",
    "* 精度高，对异常值不敏感，无数据输入假设  \n",
    "\n",
    "### 缺点  \n",
    "* 计算复杂度高，空间复杂度高"
   ]
  },
  {
   "cell_type": "code",
   "execution_count": 47,
   "metadata": {
    "collapsed": true
   },
   "outputs": [],
   "source": [
    "import numpy as np\n",
    "import operator"
   ]
  },
  {
   "cell_type": "code",
   "execution_count": 2,
   "metadata": {
    "collapsed": true
   },
   "outputs": [],
   "source": [
    "def create_dataset():\n",
    "    group = np.array([[1.0, 1.1], [1.1, 1.0], [0, 0], [0, 0.1]])\n",
    "    labels = ['a', 'a', 'b', 'b']\n",
    "    return group, labels"
   ]
  },
  {
   "cell_type": "code",
   "execution_count": 3,
   "metadata": {
    "collapsed": true
   },
   "outputs": [],
   "source": [
    "%matplotlib inline\n",
    "from matplotlib import pyplot as plt"
   ]
  },
  {
   "cell_type": "code",
   "execution_count": 16,
   "metadata": {
    "collapsed": false
   },
   "outputs": [
    {
     "data": {
      "text/plain": [
       "<matplotlib.collections.PathCollection at 0x7fcf8f09b050>"
      ]
     },
     "execution_count": 16,
     "metadata": {},
     "output_type": "execute_result"
    },
    {
     "data": {
      "image/png": "[encoded data removed]",
      "text/plain": [
       "<matplotlib.figure.Figure at 0x7fcf8efb5dd0>"
      ]
     },
     "metadata": {},
     "output_type": "display_data"
    }
   ],
   "source": [
    "x, y = create_dataset()\n",
    "plt.scatter(x[:, 0], x[:, 1])"
   ]
  },
  {
   "cell_type": "code",
   "execution_count": 55,
   "metadata": {
    "collapsed": false
   },
   "outputs": [],
   "source": [
    "def classify(inx, dataset, labels, k):\n",
    "    \"\"\"inx 输入的数据\"\"\"\n",
    "    dataset_size = dataset.shape[0]\n",
    "    \n",
    "    # 利用欧氏距离计算距离\n",
    "    diff_mat = np.tile(inx, (dataset_size, 1)) - dataset # 把inx重复生成dataset_size倍行，1倍列\n",
    "    sq_diffmat = diff_mat**2\n",
    "    sq_distance = sq_diffmat.sum(axis=1)\n",
    "    distance = sq_distance**0.5\n",
    "    \n",
    "    sort_distance_index = distance.argsort() # 由小到大排列元素，返回各个元素的下标\n",
    "    class_count={}\n",
    "    for i  in range(k):\n",
    "        class_label = labels[sort_distance_index[i]]\n",
    "        class_count[class_label] = class_count.get(class_label, 0) + 1\n",
    "    sorted_class_count = sorted(class_count.iteritems(), key=lambda x: x[1], reverse=True)\n",
    "    return sorted_class_count[0][0]\n",
    "\n",
    "def auto_norm(dataset):\n",
    "    \"\"\"数据归一化0-1\"\"\"\n",
    "    min_vals = dataset.min(0) # 每列最小值\n",
    "    max_vals = dataset.max(0) # 每列最大值\n",
    "    ranges = max_vals - min_vals\n",
    "    m = dataset.shape[0]\n",
    "    norm_dataset = (dataset - np.tile(min_vals, (m, 1)))/tile(ranges, (m, 1))\n",
    "    return norm_dataset"
   ]
  },
  {
   "cell_type": "code",
   "execution_count": 85,
   "metadata": {
    "collapsed": false
   },
   "outputs": [],
   "source": [
    "da = [[12,3,12,12,2,3,13],[2,23,2,32,3,23,2,32,2]]"
   ]
  },
  {
   "cell_type": "code",
   "execution_count": 86,
   "metadata": {
    "collapsed": false
   },
   "outputs": [],
   "source": [
    "from itertools import chain"
   ]
  },
  {
   "cell_type": "code",
   "execution_count": 89,
   "metadata": {
    "collapsed": false
   },
   "outputs": [
    {
     "data": {
      "text/plain": [
       "[12, 3, 12, 12, 2, 3, 13, 2, 23, 2, 32, 3, 23, 2, 32, 2]"
      ]
     },
     "execution_count": 89,
     "metadata": {},
     "output_type": "execute_result"
    }
   ],
   "source": [
    "list(chain(*da))"
   ]
  },
  {
   "cell_type": "code",
   "execution_count": 94,
   "metadata": {
    "collapsed": false
   },
   "outputs": [],
   "source": [
    "da = []\n",
    "da.append(u\"得是\")"
   ]
  },
  {
   "cell_type": "code",
   "execution_count": 95,
   "metadata": {
    "collapsed": false
   },
   "outputs": [
    {
     "data": {
      "text/plain": [
       "[u'\\u5f97\\u662f']"
      ]
     },
     "execution_count": 95,
     "metadata": {},
     "output_type": "execute_result"
    }
   ],
   "source": [
    "da"
   ]
  },
  {
   "cell_type": "code",
   "execution_count": 101,
   "metadata": {
    "collapsed": false
   },
   "outputs": [
    {
     "data": {
      "text/plain": [
       "4"
      ]
     },
     "execution_count": 101,
     "metadata": {},
     "output_type": "execute_result"
    }
   ],
   "source": [
    "len(unicode(u'None'))"
   ]
  },
  {
   "cell_type": "code",
   "execution_count": 110,
   "metadata": {
    "collapsed": false
   },
   "outputs": [],
   "source": [
    "da = [1,2,3,1,2,3,123,12,None,2,34,2,3]"
   ]
  },
  {
   "cell_type": "code",
   "execution_count": 111,
   "metadata": {
    "collapsed": true
   },
   "outputs": [],
   "source": [
    "l = []\n",
    "for i in da:\n",
    "    try:\n",
    "        if (i+1)%2 == 0:\n",
    "            l.append(i)\n",
    "    except:\n",
    "        pass"
   ]
  },
  {
   "cell_type": "code",
   "execution_count": 114,
   "metadata": {
    "collapsed": false
   },
   "outputs": [
    {
     "name": "stdout",
     "output_type": "stream",
     "text": [
      "1 2\n"
     ]
    }
   ],
   "source": [
    "for k, v in [[1,2]]:\n",
    "    print k, v"
   ]
  },
  {
   "cell_type": "code",
   "execution_count": 117,
   "metadata": {
    "collapsed": false
   },
   "outputs": [
    {
     "data": {
      "text/plain": [
       "1"
      ]
     },
     "execution_count": 117,
     "metadata": {},
     "output_type": "execute_result"
    }
   ],
   "source": [
    "chain()"
   ]
  }
 ],
 "metadata": {
  "anaconda-cloud": {},
  "kernelspec": {
   "display_name": "Python [conda env:anaconda2]",
   "language": "python",
   "name": "conda-env-anaconda2-py"
  },
  "language_info": {
   "codemirror_mode": {
    "name": "ipython",
    "version": 2.0
   },
   "file_extension": ".py",
   "mimetype": "text/x-python",
   "name": "python",
   "nbconvert_exporter": "python",
   "pygments_lexer": "ipython2",
   "version": "2.7.12"
  }
 },
 "nbformat": 4,
 "nbformat_minor": 0
}